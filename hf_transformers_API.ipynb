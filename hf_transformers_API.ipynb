{
 "cells": [
  {
   "cell_type": "markdown",
   "metadata": {},
   "source": [
    "# Running Inference with API Requests\n",
    "\n",
    "* The first step is to choose which model we are going to run. \n",
    "* Go to the Model Hub <https://huggingface.co/models> and select the model you want to use. \n",
    "* If you are unsure where to start, make sure to check our recommended models for each NLP task available.\n",
    "\n",
    "ENDPOINT = https://api-inference.huggingface.co/models/<MODEL_ID>\n",
    "\n",
    "Using **gpt2** as an example in this notebook. To run inference, we simply use this code:\n",
    "\n"
   ]
  },
  {
   "cell_type": "code",
   "execution_count": null,
   "metadata": {},
   "outputs": [],
   "source": [
    "import json\n",
    "import requests\n",
    "\n",
    "API_URL = \"https://api-inference.huggingface.co/models/gpt2\"\n",
    "headers = {\"Authorization\": f\"Bearer {API_TOKEN}\"}\n",
    "\n",
    "def query(payload):\n",
    "    data = json.dumps(payload)\n",
    "    response = requests.request(\"POST\", API_URL, headers=headers, data=data)\n",
    "    return json.loads(response.content.decode(\"utf-8\"))\n",
    "\n",
    "data = query(\"Can you please let us know more details about your \")"
   ]
  }
 ],
 "metadata": {
  "language_info": {
   "name": "python"
  },
  "orig_nbformat": 4
 },
 "nbformat": 4,
 "nbformat_minor": 2
}
